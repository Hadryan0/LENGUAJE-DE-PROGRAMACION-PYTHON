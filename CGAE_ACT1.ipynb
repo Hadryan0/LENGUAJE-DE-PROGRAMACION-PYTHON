{
  "nbformat": 4,
  "nbformat_minor": 0,
  "metadata": {
    "colab": {
      "provenance": [],
      "authorship_tag": "ABX9TyPmT7Y8QVxOUmQPM25xN+00",
      "include_colab_link": true
    },
    "kernelspec": {
      "name": "python3",
      "display_name": "Python 3"
    },
    "language_info": {
      "name": "python"
    }
  },
  "cells": [
    {
      "cell_type": "markdown",
      "metadata": {
        "id": "view-in-github",
        "colab_type": "text"
      },
      "source": [
        "<a href=\"https://colab.research.google.com/github/Hadryan0/LENGUAJE-DE-PROGRAMACION-PYTHON/blob/main/CGAE_ACT1.ipynb\" target=\"_parent\"><img src=\"https://colab.research.google.com/assets/colab-badge.svg\" alt=\"Open In Colab\"/></a>"
      ]
    },
    {
      "cell_type": "markdown",
      "source": [
        "# **Actividad 1**\n",
        "### Cebreros Garambullo Adrian Eduardo"
      ],
      "metadata": {
        "id": "g3g4BCaDLGiq"
      }
    },
    {
      "cell_type": "markdown",
      "source": [
        "1.- Programa en Python Mostrar un mensaje que diga “HOLA MUNDO” en un solo renglón usando 2 print\n",
        "\n"
      ],
      "metadata": {
        "id": "OyqCWT1r-Xkx"
      }
    },
    {
      "cell_type": "code",
      "source": [
        "print (\"HOLA\", end=\" \")\n",
        "print (\"MUNDO\")"
      ],
      "metadata": {
        "id": "j1mGfdJ__c5w",
        "outputId": "f3739e0f-8696-4a8d-b396-a7f471952199",
        "colab": {
          "base_uri": "https://localhost:8080/"
        }
      },
      "execution_count": 1,
      "outputs": [
        {
          "output_type": "stream",
          "name": "stdout",
          "text": [
            "HOLA MUNDO\n"
          ]
        }
      ]
    },
    {
      "cell_type": "markdown",
      "source": [
        "2.- Programa en Python que lea 2 números, realizar la suma y desplegar la suma de los 2 números"
      ],
      "metadata": {
        "id": "QuJktuPQDMao"
      }
    },
    {
      "cell_type": "code",
      "source": [
        "num1 = int(input(\"Dame un numero:\"))\n",
        "num2 = int(input(\"Dame un numero:\"))\n",
        "suma = num1 + num2\n",
        "print (f\"El resultado de la suma es {suma}\")"
      ],
      "metadata": {
        "colab": {
          "base_uri": "https://localhost:8080/"
        },
        "id": "lz3xdg5wL3L8",
        "outputId": "b0eb9801-5d5d-452a-bb85-fb421969e0ac"
      },
      "execution_count": 1,
      "outputs": [
        {
          "output_type": "stream",
          "name": "stdout",
          "text": [
            "Dame un numero:1\n",
            "Dame un numero:5\n",
            "El resultado de la suma es 6\n"
          ]
        }
      ]
    },
    {
      "cell_type": "markdown",
      "source": [
        "3.-Programa en Python que lea 2 números y realice las 4 operaciones básicas"
      ],
      "metadata": {
        "id": "gDWE--QmK1aS"
      }
    },
    {
      "cell_type": "code",
      "source": [
        "num1 = int(input(\"Dame un numero:\"))\n",
        "num2 = int(input(\"Dame un numero:\"))\n",
        "suma = num1 + num2\n",
        "print (f\"El resultado de la suma es {suma}\")\n",
        "resta = num1 - num2\n",
        "print (f\"El resultado de la resta es {resta}\")\n",
        "multi = num1 * num2\n",
        "print (f\"El resultado de la multiplicacion es {multi}\")\n",
        "div = num1 / num2\n",
        "print (f\"El resultado de la division es {div}\")"
      ],
      "metadata": {
        "colab": {
          "base_uri": "https://localhost:8080/"
        },
        "id": "W4pfWSAvK9aS",
        "outputId": "2d648ef0-bb92-48c4-b314-36c416801021"
      },
      "execution_count": 2,
      "outputs": [
        {
          "output_type": "stream",
          "name": "stdout",
          "text": [
            "Dame un numero:5\n",
            "Dame un numero:12\n",
            "El resultado de la suma es 17\n",
            "El resultado de la resta es -7\n",
            "El resultado de la multiplicacion es 60\n",
            "El resultado de la division es 0.4166666666666667\n"
          ]
        }
      ]
    },
    {
      "cell_type": "markdown",
      "source": [
        "4.- Programa en Python Que sirva para calcular el área de un triángulo"
      ],
      "metadata": {
        "id": "740IAQWdK95d"
      }
    },
    {
      "cell_type": "code",
      "source": [
        "base = int(input(\"Dame la base del triangulo:\"))\n",
        "altura = int(input(\"Dame la altura del triangulo:\"))\n",
        "area = base * altura / 2\n",
        "print (f\"El area del triangulo es {area}\")"
      ],
      "metadata": {
        "colab": {
          "base_uri": "https://localhost:8080/"
        },
        "id": "CH7Jk9VdK_NX",
        "outputId": "b27283d2-906c-4745-fec9-db7aa837fbc8"
      },
      "execution_count": 3,
      "outputs": [
        {
          "output_type": "stream",
          "name": "stdout",
          "text": [
            "Dame la base del triangulo:12\n",
            "Dame la altura del triangulo:14\n",
            "El area del triangulo es 84.0\n"
          ]
        }
      ]
    },
    {
      "cell_type": "markdown",
      "source": [
        "5.- Programa en Python que lea una medida en centímetros y desplegar la misma medida pero convertida en pies y pulgadas"
      ],
      "metadata": {
        "id": "T3Rp9uKiLCG_"
      }
    },
    {
      "cell_type": "code",
      "source": [
        "cm = int(input(\"Dame los centimetros:\"))\n",
        "pulgadas = cm * .393701\n",
        "pies = cm * .0328084\n",
        "print (f\"Sus centimetros en pulgadas son {pulgadas} y a pies son {pies}\")"
      ],
      "metadata": {
        "colab": {
          "base_uri": "https://localhost:8080/"
        },
        "id": "br2zal7hLDwu",
        "outputId": "f88cffa5-753d-4368-d84c-90ae96595a0e"
      },
      "execution_count": 4,
      "outputs": [
        {
          "output_type": "stream",
          "name": "stdout",
          "text": [
            "Dame los centimetros:12\n",
            "Sus centimetros en pulgadas son 4.724412 y a pies son 0.3937008\n"
          ]
        }
      ]
    },
    {
      "cell_type": "markdown",
      "source": [
        "6.- Programa en Python que lea una temperatura en grados centígrados y desplegarla en Grados Fahrenheit y grados kelvin"
      ],
      "metadata": {
        "id": "N6SYE7uMLEQy"
      }
    },
    {
      "cell_type": "code",
      "source": [
        "centigrados = int(input(\"Dame los gardos centigrados:\"))\n",
        "fahrenheit = ( centigrados * 9 / 5 ) + 32\n",
        "kelvin = centigrados + 273.15\n",
        "print (f\"Sus grados centigrados en fahrenheit son {fahrenheit}F y a kelvin son {kelvin}K\")"
      ],
      "metadata": {
        "colab": {
          "base_uri": "https://localhost:8080/"
        },
        "id": "HmEtUbTULHwR",
        "outputId": "46291053-e0be-4dfc-c700-020bd1afa148"
      },
      "execution_count": 5,
      "outputs": [
        {
          "output_type": "stream",
          "name": "stdout",
          "text": [
            "Dame los gardos centigrados:15\n",
            "Sus grados centigrados en fahrenheit son 59.0F y a kelvin son 288.15K\n"
          ]
        }
      ]
    },
    {
      "cell_type": "markdown",
      "source": [
        "7.- Programa en Python que lea 4 calificaciones de un alumno, desplegar el promedio del alumno"
      ],
      "metadata": {
        "id": "bZyIk3W0LIUI"
      }
    },
    {
      "cell_type": "code",
      "source": [
        "cal1 = int(input(\"Dame la calificacion del primer parcial:\"))\n",
        "cal2 = int(input(\"Dame la calificacion del segundo parcial:\"))\n",
        "cal3 = int(input(\"Dame la calificacion del tercer parcial:\"))\n",
        "cal4 = int(input(\"Dame la calificacion del cuarto parcial:\"))\n",
        "prom = ( cal1 + cal2 + cal3 + cal4 ) / 4\n",
        "print (f\"El promdeio de calificacion es {prom}\")"
      ],
      "metadata": {
        "colab": {
          "base_uri": "https://localhost:8080/"
        },
        "id": "sK4NtLb2LNFX",
        "outputId": "e9eb5e31-e4b1-4c29-e914-4e4dd9a64da9"
      },
      "execution_count": 7,
      "outputs": [
        {
          "output_type": "stream",
          "name": "stdout",
          "text": [
            "Dame la calificacion del primer parcial:100\n",
            "Dame la calificacion del segundo parcial:92\n",
            "Dame la calificacion del tercer parcial:85\n",
            "Dame la calificacion del cuarto parcial:87\n",
            "El promdeio de calificacion es 91.0\n"
          ]
        }
      ]
    }
  ]
}