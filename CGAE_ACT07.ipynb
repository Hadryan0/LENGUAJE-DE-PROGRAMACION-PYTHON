{
  "nbformat": 4,
  "nbformat_minor": 0,
  "metadata": {
    "colab": {
      "provenance": [],
      "authorship_tag": "ABX9TyOBEK+Eb7xQ++mqp9u3WIpn",
      "include_colab_link": true
    },
    "kernelspec": {
      "name": "python3",
      "display_name": "Python 3"
    },
    "language_info": {
      "name": "python"
    }
  },
  "cells": [
    {
      "cell_type": "markdown",
      "metadata": {
        "id": "view-in-github",
        "colab_type": "text"
      },
      "source": [
        "<a href=\"https://colab.research.google.com/github/Hadryan0/LENGUAJE-DE-PROGRAMACION-PYTHON/blob/main/CGAE_ACT07.ipynb\" target=\"_parent\"><img src=\"https://colab.research.google.com/assets/colab-badge.svg\" alt=\"Open In Colab\"/></a>"
      ]
    },
    {
      "cell_type": "markdown",
      "source": [
        "# **Actividad 7**\n",
        "Adrian Eduardo Cebreros Garambullo"
      ],
      "metadata": {
        "id": "Kk1MEKucNCl1"
      }
    },
    {
      "cell_type": "code",
      "source": [
        "import os\n",
        "from random import randint"
      ],
      "metadata": {
        "id": "wnul2gRKOAEv"
      },
      "execution_count": 1,
      "outputs": []
    },
    {
      "cell_type": "markdown",
      "source": [
        "**MENU**"
      ],
      "metadata": {
        "id": "wIrK12qYAIf1"
      }
    },
    {
      "cell_type": "code",
      "source": [
        "def clear():\n",
        "    os.system('cls')\n",
        "\n",
        "def menu():\n",
        "    on = True\n",
        "    while(on):\n",
        "        print(\"Menu de la actividad 4\")\n",
        "        print(\"1.- Imprimir datos lista y caracteres\")\n",
        "        print(\"2.- Generar y imprimir lista\")\n",
        "        print(\"3.- Sumar dos listas\")\n",
        "        print(\"4.- Eliminar duplicados de una lista\")\n",
        "        print(\"5.- Media y mediana\")\n",
        "        print(\"0.- Cerrar\")\n",
        "        try:\n",
        "            opc = int(input(\"Ingrese una opcion: \"))\n",
        "        except:\n",
        "            clear()\n",
        "            print(\"Tienes que ingresar una opcion valida\")\n",
        "        else:\n",
        "            match opc:\n",
        "                case 1:\n",
        "                    clear()\n",
        "                    lista_nombres_mascotas = [\"Nala\", \"Gizmo\", \"Niebla\", \"V\", \"Enyphen\"]\n",
        "                    lista_nombre(lista_nombres_mascotas)\n",
        "                    clear()\n",
        "                case 2:\n",
        "                    clear()\n",
        "                    nums = gen_10nums()\n",
        "                    imp_lista(nums)\n",
        "                    clear()\n",
        "                case 3:\n",
        "                    clear()\n",
        "                    lista1 = [10, 20, 30, 40, 50, 60]\n",
        "                    lista2 = [5, 5, 5, 5, 5]\n",
        "                    lista3 = sumar_listas(lista1, lista2)\n",
        "                    imp_lista(lista3)\n",
        "                    clear()\n",
        "                case 4:\n",
        "                    clear()\n",
        "                    lista_duplis = []\n",
        "                    print(\"Ingresa 0 para parar de ingresar numeros\")\n",
        "                    while True:\n",
        "                        num = int(input(\"Ingresa un numero: \"))\n",
        "                        if num == 0:\n",
        "                            break\n",
        "                        else:\n",
        "                            lista_duplis.append(num)\n",
        "\n",
        "                    lista_no_duplis = elim_duplicados(lista_duplis)\n",
        "                    print(\"Lista sin duplicados: \")\n",
        "                    imp_lista(lista_no_duplis)\n",
        "                    clear()\n",
        "                case 5:\n",
        "                    clear()\n",
        "                    lista = [50, 55, 64, 887, 52, 31, 10]\n",
        "                    media_mediana(lista)\n",
        "                    clear()\n",
        "                case 0:\n",
        "                    on = False\n",
        "                case _:\n",
        "                    clear()\n",
        "                    print(\"Opcion invalida\")"
      ],
      "metadata": {
        "id": "8UE8Uy9S-7GF"
      },
      "execution_count": 2,
      "outputs": []
    },
    {
      "cell_type": "markdown",
      "source": [
        "1- Función que utilice una lista con los nombres de tus mascotas, o artistas favoritos, (minimo 5, maximo 10) imprimir las cadenas y la cantidad de caracteres de cada cadena.  "
      ],
      "metadata": {
        "id": "GTpLG7KDNRjp"
      }
    },
    {
      "cell_type": "code",
      "execution_count": 3,
      "metadata": {
        "id": "rKABgaVEM7qF"
      },
      "outputs": [],
      "source": [
        "def lista_nombre(nombres):\n",
        "    if len(nombres) < 5 or len(nombres) > 10:\n",
        "        print(\"La lista deber tener minimo 5 caracteres y maximo 10\")\n",
        "        os.system(\"pause\")\n",
        "        return\n",
        "\n",
        "    for nom in nombres:\n",
        "        print(f\"{nom} -----> {len(nom)} caracteres\")\n",
        "\n",
        "    os.system(\"pause\")"
      ]
    },
    {
      "cell_type": "markdown",
      "source": [
        "2.- Programa que utilice 2 funciones,\n",
        "\n",
        "Función que genere y regrese una lista con 10 números aleatorios entre el 30 y 50 (no repetidos).\n",
        "\n",
        "Función que reciba una lista , Imprimir la lista (Indice y Valor )\n",
        "\n",
        "\n",
        " Mandar llamar la función e imprimir toda la lista."
      ],
      "metadata": {
        "id": "vuTadbNRNcF3"
      }
    },
    {
      "cell_type": "code",
      "source": [
        "def gen_10nums():\n",
        "    lista_nums = []\n",
        "    i = 0\n",
        "    while i < 10:\n",
        "        num = randint(30, 50)\n",
        "        if num not in lista_nums:\n",
        "            lista_nums.append(num)\n",
        "            i += 1\n",
        "\n",
        "    return lista_nums"
      ],
      "metadata": {
        "id": "ct-gBTVENke2"
      },
      "execution_count": 4,
      "outputs": []
    },
    {
      "cell_type": "code",
      "source": [
        "def imp_lista(lista):\n",
        "    for i in range(len(lista)):\n",
        "        print(f\"{i+1}.- {lista[i]}\")\n",
        "\n",
        "    os.system(\"pause\")"
      ],
      "metadata": {
        "id": "Jerc0KsZ_2UH"
      },
      "execution_count": 5,
      "outputs": []
    },
    {
      "cell_type": "markdown",
      "source": [
        "3.- Escribe una función que reciba dos listas de números del mismo tamaño y calcule la suma de los elementos correspondientes de cada lista. (regresar una nueva lista) . Luego, muestra una lista con los resultados de cada suma. Nota: si las listas no son del mismo tamaño mandar msge y utilizar el tamaño de la lista mas pequeña."
      ],
      "metadata": {
        "id": "mN3m4QPfNnrR"
      }
    },
    {
      "cell_type": "code",
      "source": [
        "def sumar_listas(lista1, lista2):\n",
        "    len_lista1 = len(lista1)\n",
        "    len_lista2 = len(lista2)\n",
        "    lista3 = []\n",
        "    if len_lista1 != len_lista2:\n",
        "        print(\"Las listas no son iguales, se usara el largo de la lista de menor tamaño\")\n",
        "        if len_lista1 < len_lista2:\n",
        "            nueva_lista2 = lista2[0:len_lista1]\n",
        "            for i in range(len_lista1):\n",
        "                lista3.append(lista1[i] + nueva_lista2[i])\n",
        "        elif len_lista2 < len_lista1:\n",
        "            nueva_lista1 = lista1[0:len_lista2]\n",
        "            for i in range(len_lista2):\n",
        "                lista3.append(nueva_lista1[i] + lista2[i])\n",
        "    else:\n",
        "        for i in range(len_lista1):\n",
        "            lista3.append(lista1[i] + lista2[i])\n",
        "\n",
        "    return lista3"
      ],
      "metadata": {
        "id": "lWrpGDCONuCl"
      },
      "execution_count": 6,
      "outputs": []
    },
    {
      "cell_type": "markdown",
      "source": [
        "4.- Escribe una función llamada eliminar_duplicados que reciba una lista como parámetro y elimine los elementos duplicados. El resultado debe ser una nueva lista sin duplicados. Pide al usuario que ingrese una lista y luego llama a la función eliminar_duplicados para mostrar la lista sin duplicados. (Solo Numeros enteros, validar)"
      ],
      "metadata": {
        "id": "laobkLo4Ntck"
      }
    },
    {
      "cell_type": "code",
      "source": [
        "def elim_duplicados(lista):\n",
        "    nueva_lista = []\n",
        "    for num in lista:\n",
        "        if num not in nueva_lista:\n",
        "            nueva_lista.append(num)\n",
        "\n",
        "    return nueva_lista"
      ],
      "metadata": {
        "id": "AbzHLnPTNubX"
      },
      "execution_count": 7,
      "outputs": []
    },
    {
      "cell_type": "markdown",
      "source": [
        "5.- Escribe una función que calcule la media y la mediana de una lista de números enteros. La media es la suma de todos los elementos y dividido entre la cantidad de elementos. La mediana es el valor que queda en la mitad de la lista cuando se ordena de forma ascendente. Si la lista tiene un número par de elementos, la mediana se calcula como el promedio de los dos valores centrales. Puedes utilizar el método sort() para ordenar la lista y luego calcular la mediana según el tamaño de la lista.\n",
        "\n"
      ],
      "metadata": {
        "id": "zI2FuqWaNy13"
      }
    },
    {
      "cell_type": "code",
      "source": [
        "def media_mediana(lista):\n",
        "    media = sum(lista)/len(lista)\n",
        "    lista.sort()\n",
        "    mitad = len(lista) // 2\n",
        "    if len(lista) % 2 == 0:\n",
        "        mediana = (lista[mitad - 1] + lista[mitad]) / 2\n",
        "    else:\n",
        "        mediana= lista[mitad]\n",
        "\n",
        "    print(f\"La media de la lista es: {media}\")\n",
        "    print(f\"La mediana de la lista es: {mediana}\")\n",
        "    os.system(\"pause\")\n",
        "\n",
        "\n",
        "if __name__ == \"__main__\":\n",
        "    menu()"
      ],
      "metadata": {
        "colab": {
          "base_uri": "https://localhost:8080/"
        },
        "id": "gizINXExC1hJ",
        "outputId": "b80f124d-6da4-47d0-ddc7-41417aa4e342"
      },
      "execution_count": 8,
      "outputs": [
        {
          "name": "stdout",
          "output_type": "stream",
          "text": [
            "Menu de la actividad 4\n",
            "1.- Imprimir datos lista y caracteres\n",
            "2.- Generar y imprimir lista\n",
            "3.- Sumar dos listas\n",
            "4.- Eliminar duplicados de una lista\n",
            "5.- Media y mediana\n",
            "0.- Cerrar\n",
            "Ingrese una opcion: 1\n",
            "Nala -----> 4 caracteres\n",
            "Gizmo -----> 5 caracteres\n",
            "Niebla -----> 6 caracteres\n",
            "V -----> 1 caracteres\n",
            "Enyphen -----> 7 caracteres\n",
            "Menu de la actividad 4\n",
            "1.- Imprimir datos lista y caracteres\n",
            "2.- Generar y imprimir lista\n",
            "3.- Sumar dos listas\n",
            "4.- Eliminar duplicados de una lista\n",
            "5.- Media y mediana\n",
            "0.- Cerrar\n",
            "Ingrese una opcion: 2\n",
            "1.- 50\n",
            "2.- 30\n",
            "3.- 44\n",
            "4.- 34\n",
            "5.- 49\n",
            "6.- 38\n",
            "7.- 31\n",
            "8.- 39\n",
            "9.- 40\n",
            "10.- 43\n",
            "Menu de la actividad 4\n",
            "1.- Imprimir datos lista y caracteres\n",
            "2.- Generar y imprimir lista\n",
            "3.- Sumar dos listas\n",
            "4.- Eliminar duplicados de una lista\n",
            "5.- Media y mediana\n",
            "0.- Cerrar\n",
            "Ingrese una opcion: 3\n",
            "Las listas no son iguales, se usara el largo de la lista de menor tamaño\n",
            "1.- 15\n",
            "2.- 25\n",
            "3.- 35\n",
            "4.- 45\n",
            "5.- 55\n",
            "Menu de la actividad 4\n",
            "1.- Imprimir datos lista y caracteres\n",
            "2.- Generar y imprimir lista\n",
            "3.- Sumar dos listas\n",
            "4.- Eliminar duplicados de una lista\n",
            "5.- Media y mediana\n",
            "0.- Cerrar\n",
            "Ingrese una opcion: 4\n",
            "Ingresa 0 para parar de ingresar numeros\n",
            "Ingresa un numero: 5\n",
            "Ingresa un numero: 23\n",
            "Ingresa un numero: 245\n",
            "Ingresa un numero: 234\n",
            "Ingresa un numero: 221\n",
            "Ingresa un numero: 453\n",
            "Ingresa un numero: 2\n",
            "Ingresa un numero: 43\n",
            "Ingresa un numero: 0\n",
            "Lista sin duplicados: \n",
            "1.- 5\n",
            "2.- 23\n",
            "3.- 245\n",
            "4.- 234\n",
            "5.- 221\n",
            "6.- 453\n",
            "7.- 2\n",
            "8.- 43\n",
            "Menu de la actividad 4\n",
            "1.- Imprimir datos lista y caracteres\n",
            "2.- Generar y imprimir lista\n",
            "3.- Sumar dos listas\n",
            "4.- Eliminar duplicados de una lista\n",
            "5.- Media y mediana\n",
            "0.- Cerrar\n",
            "Ingrese una opcion: 5\n",
            "La media de la lista es: 164.14285714285714\n",
            "La mediana de la lista es: 52\n",
            "Menu de la actividad 4\n",
            "1.- Imprimir datos lista y caracteres\n",
            "2.- Generar y imprimir lista\n",
            "3.- Sumar dos listas\n",
            "4.- Eliminar duplicados de una lista\n",
            "5.- Media y mediana\n",
            "0.- Cerrar\n",
            "Ingrese una opcion: 0\n"
          ]
        }
      ]
    }
  ]
}