{
  "nbformat": 4,
  "nbformat_minor": 0,
  "metadata": {
    "colab": {
      "provenance": [],
      "authorship_tag": "ABX9TyMNiw3aM+Rp1wax+D5/tE//",
      "include_colab_link": true
    },
    "kernelspec": {
      "name": "python3",
      "display_name": "Python 3"
    },
    "language_info": {
      "name": "python"
    }
  },
  "cells": [
    {
      "cell_type": "markdown",
      "metadata": {
        "id": "view-in-github",
        "colab_type": "text"
      },
      "source": [
        "<a href=\"https://colab.research.google.com/github/Hadryan0/LENGUAJE-DE-PROGRAMACION-PYTHON/blob/main/CGAE_ACT09.ipynb\" target=\"_parent\"><img src=\"https://colab.research.google.com/assets/colab-badge.svg\" alt=\"Open In Colab\"/></a>"
      ]
    },
    {
      "cell_type": "markdown",
      "source": [
        "# **Actividad 9**\n",
        "Adrian Eduardo Cebreros Garambullo"
      ],
      "metadata": {
        "id": "Kk1MEKucNCl1"
      }
    },
    {
      "cell_type": "code",
      "source": [
        "import os\n",
        "from random import randint, choice, sample"
      ],
      "metadata": {
        "id": "pdBZvjK2W2yZ"
      },
      "execution_count": 1,
      "outputs": []
    },
    {
      "cell_type": "markdown",
      "source": [
        "CREAR DICCIONARIO: funcion que retorne un diccionario con los datos de basicos de un alumno, donde se pide {id,nombre (1 O 2) , appaterno,apmaterno, edad,sexo}, El diccionario se debe generar automaticmanete a partir de listas.\n",
        "\n",
        "IMPRIMIR DICCIONARIO:  Funcion que reciba como parametro el diccionario, y le de una salida mostrando la informacion en forma de registro que se genero con el diccionario"
      ],
      "metadata": {
        "id": "fhPwJhmqXBPr"
      }
    },
    {
      "cell_type": "markdown",
      "source": [
        "MENU"
      ],
      "metadata": {
        "id": "bCaFAAO9lUO0"
      }
    },
    {
      "cell_type": "code",
      "source": [
        "def clear():\n",
        "    os.system('cls')"
      ],
      "metadata": {
        "id": "W-YDh9tSbB_X"
      },
      "execution_count": 2,
      "outputs": []
    },
    {
      "cell_type": "code",
      "source": [
        "def menu():\n",
        "    on = True\n",
        "    while(on):\n",
        "        print(\"M  E  N  U\")\n",
        "        print(\"1.- Crear diccionario\")\n",
        "        print(\"2.- Imprimir diccionario\")\n",
        "        print(\"0.- Cerrar\")\n",
        "        try:\n",
        "            opc = int(input(\"Ingrese una opcion: \"))\n",
        "        except:\n",
        "            clear()\n",
        "            print(\"Tienes que ingresar una opcion valida\")\n",
        "        else:\n",
        "            match opc:\n",
        "                case 1:\n",
        "                    clear()\n",
        "                    alumno = gen_alum()\n",
        "                    clear()\n",
        "                case 2:\n",
        "                    clear()\n",
        "                    print_dic(alumno)\n",
        "                    clear()\n",
        "                case 0:\n",
        "                    on = False\n",
        "                case _:\n",
        "                    clear()\n",
        "                    print(\"Opcion invalida\")"
      ],
      "metadata": {
        "id": "cQAijhENX1Gj"
      },
      "execution_count": 3,
      "outputs": []
    },
    {
      "cell_type": "markdown",
      "source": [
        "1.-Donde se genera el diccionario"
      ],
      "metadata": {
        "id": "s3PwUSehk4eI"
      }
    },
    {
      "cell_type": "code",
      "source": [
        "def gen_alum():\n",
        "    import random\n",
        "    alumno = {}\n",
        "    nombres_h = [\"Adrian\",\"Eduardo\",\"Alan\",\"Diego\",\"Luis\",\"Exael\",\"Daniel\"]\n",
        "    nombres_m =[\"Pilar\",\"Adamaris\",\"Karen\",\"Adriana\",\"Isabel\",\"Daniela\",\"Ashley\", \"Maria\", \"Guadalupe\"]\n",
        "    apellidos = [\"Cebreros\",\"Serna\",\"Mejorado\",\"Ruiz\",\"Bravo\",\"Hernandez\",\"Garambullo\",\"Ferreiro\",\"Meza\",\"Aquino\"]\n",
        "    sexo = [\"Hombre\",\"Mujer\"]\n",
        "\n",
        "    alumno['id'] = randint(300000, 399999)\n",
        "    alumno['sexo'] = choice(sexo)\n",
        "    if alumno['sexo'] == \"Hombre\":\n",
        "        num_nombres = randint(1, 2)\n",
        "        if num_nombres == 1:\n",
        "            alumno['nombre'] = choice(nombres_h)\n",
        "        else:\n",
        "            alumno['nombre'] = sample(nombres_h, 2)\n",
        "    else:\n",
        "        num_nombres = randint(1, 2)\n",
        "        if num_nombres == 1:\n",
        "            alumno['nombre'] = choice(nombres_m)\n",
        "        else:\n",
        "            alumno['nombre'] = sample(nombres_m, 2)\n",
        "    alumno['ap_pat'] = choice(apellidos)\n",
        "    alumno['ap_mat'] = choice(apellidos)\n",
        "    alumno['edad'] = randint(17, 40)\n",
        "\n",
        "    return alumno"
      ],
      "metadata": {
        "id": "kILkCUVFedM4"
      },
      "execution_count": 4,
      "outputs": []
    },
    {
      "cell_type": "markdown",
      "source": [
        "2.-Donde se manda a imprimir el diccionario antes generado automaticamente"
      ],
      "metadata": {
        "id": "Rdwc_euolCbm"
      }
    },
    {
      "cell_type": "code",
      "source": [
        "def print_dic(dic: dict):\n",
        "    for key in dic:\n",
        "        print(f\"{key}: {dic[key]}\")\n",
        "    os.system('pause')\n",
        "if __name__ == \"__main__\":\n",
        "    menu()"
      ],
      "metadata": {
        "colab": {
          "base_uri": "https://localhost:8080/"
        },
        "id": "njPe4-QNZajS",
        "outputId": "333780d9-4b39-4945-f5da-77822c033cbe"
      },
      "execution_count": 5,
      "outputs": [
        {
          "name": "stdout",
          "output_type": "stream",
          "text": [
            "M  E  N  U\n",
            "1.- Crear diccionario\n",
            "2.- Imprimir diccionario\n",
            "0.- Cerrar\n",
            "Ingrese una opcion: 1\n",
            "M  E  N  U\n",
            "1.- Crear diccionario\n",
            "2.- Imprimir diccionario\n",
            "0.- Cerrar\n",
            "Ingrese una opcion: 2\n",
            "id: 396579\n",
            "sexo: Hombre\n",
            "nombre: ['Daniel', 'Exael']\n",
            "ap_pat: Serna\n",
            "ap_mat: Cebreros\n",
            "edad: 31\n",
            "M  E  N  U\n",
            "1.- Crear diccionario\n",
            "2.- Imprimir diccionario\n",
            "0.- Cerrar\n",
            "Ingrese una opcion: 0\n"
          ]
        }
      ]
    }
  ]
}