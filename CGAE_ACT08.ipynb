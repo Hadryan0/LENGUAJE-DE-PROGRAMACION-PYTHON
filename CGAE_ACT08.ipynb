{
  "nbformat": 4,
  "nbformat_minor": 0,
  "metadata": {
    "colab": {
      "provenance": [],
      "authorship_tag": "ABX9TyMPw229ZBy693ZRfkVS/5md",
      "include_colab_link": true
    },
    "kernelspec": {
      "name": "python3",
      "display_name": "Python 3"
    },
    "language_info": {
      "name": "python"
    }
  },
  "cells": [
    {
      "cell_type": "markdown",
      "metadata": {
        "id": "view-in-github",
        "colab_type": "text"
      },
      "source": [
        "<a href=\"https://colab.research.google.com/github/Hadryan0/LENGUAJE-DE-PROGRAMACION-PYTHON/blob/main/CGAE_ACT08.ipynb\" target=\"_parent\"><img src=\"https://colab.research.google.com/assets/colab-badge.svg\" alt=\"Open In Colab\"/></a>"
      ]
    },
    {
      "cell_type": "markdown",
      "source": [
        "# **Actividad 8**\n",
        "Adrian Eduardo Cebreros Garambullo"
      ],
      "metadata": {
        "id": "Kk1MEKucNCl1"
      }
    },
    {
      "cell_type": "code",
      "execution_count": 1,
      "metadata": {
        "id": "B3TM_P5lTN_S"
      },
      "outputs": [],
      "source": [
        "import os\n",
        "import random"
      ]
    },
    {
      "cell_type": "markdown",
      "source": [
        "MENU"
      ],
      "metadata": {
        "id": "QuFp2yNxTgYF"
      }
    },
    {
      "cell_type": "code",
      "source": [
        "def clear():\n",
        "    os.system('cls')\n",
        "\n",
        "def menu():\n",
        "    on = True\n",
        "    while(on):\n",
        "        print(\"Menu de la actividad 8\")\n",
        "        print(\"1.- Adivina el número\")\n",
        "        print(\"2.- Busca el número\")\n",
        "        print(\"0.- Cerrar\")\n",
        "        try:\n",
        "            opc = int(input(\"Ingrese una opcion: \"))\n",
        "        except:\n",
        "            clear()\n",
        "            print(\"Tienes que ingresar una opcion valida\")\n",
        "        else:\n",
        "            match opc:\n",
        "                case 1:\n",
        "                    clear()\n",
        "                    adivina_num()\n",
        "                    clear()\n",
        "                case 2:\n",
        "                    clear()\n",
        "                    busca_num()\n",
        "                    clear()\n",
        "                case 0:\n",
        "                    on = False\n",
        "                case _:\n",
        "                    clear()\n",
        "                    print(\"Opcion invalida\")"
      ],
      "metadata": {
        "id": "ZqT3hzviTi5P"
      },
      "execution_count": 2,
      "outputs": []
    },
    {
      "cell_type": "markdown",
      "source": [
        "JUEGO DE ADIVINAR NUMEROS"
      ],
      "metadata": {
        "id": "pz1yde-cT0Gg"
      }
    },
    {
      "cell_type": "code",
      "source": [
        "def adivina_num():\n",
        "    print(\"Bienvenido al juego de adivinar números\")\n",
        "    numeros = get_numbers()\n",
        "    numero = choice_number(numeros)\n",
        "    print(\"Estoy pensando en un número entre 1 y 10\")\n",
        "    intentos = 3\n",
        "\n",
        "    while intentos > 0:\n",
        "        try:\n",
        "            respuesta = int(input(\"Intente adivinar: \"))\n",
        "        except:\n",
        "            clear()\n",
        "            print(\"Tienes que ingresar una opcion valida\")\n",
        "            continue\n",
        "        else:\n",
        "            if respuesta == numero:\n",
        "                print(f\"Adivinaste! El numero era {numero}\")\n",
        "                intentos = 0\n",
        "            elif respuesta > numero:\n",
        "                print(\"Muy alto\")\n",
        "                print(\"Intenta otra vez\")\n",
        "                intentos -= 1\n",
        "                print(f\"Te quedan {intentos} para adivinar\")\n",
        "            elif respuesta < numero:\n",
        "                print(\"Muy bajo\")\n",
        "                print(\"Intenta otra vez\")\n",
        "                intentos -= 1\n",
        "                print(f\"Te quedan {intentos} para adivinar\")\n",
        "\n",
        "    os.system(\"pause\")"
      ],
      "metadata": {
        "id": "9vc5jCFmTpLD"
      },
      "execution_count": 3,
      "outputs": []
    },
    {
      "cell_type": "code",
      "source": [
        "def get_numbers():\n",
        "    numbers = []\n",
        "    for i in range(1, 11):\n",
        "        numbers.append(i)\n",
        "    return numbers"
      ],
      "metadata": {
        "id": "h-YFTXH1Tvpo"
      },
      "execution_count": 4,
      "outputs": []
    },
    {
      "cell_type": "code",
      "source": [
        "def choice_number(numbers):\n",
        "    return random.choice(numbers)"
      ],
      "metadata": {
        "id": "jp8GYzXGT8Sw"
      },
      "execution_count": 5,
      "outputs": []
    },
    {
      "cell_type": "markdown",
      "source": [
        "BUSCA EL NUMERO"
      ],
      "metadata": {
        "id": "PYJLIGCaUOzI"
      }
    },
    {
      "cell_type": "code",
      "source": [
        "def busca_num():\n",
        "    nums = gen_10nums_rand1()\n",
        "    objetivo = random.randint(1, 10)\n",
        "    objetivo_idx = nums.index(objetivo)\n",
        "    adivinados = []\n",
        "    intentos = 3\n",
        "\n",
        "    while intentos > 0:\n",
        "        if intentos < 3:\n",
        "            print(f\"Te quedan {intentos} intentos\")\n",
        "        print(f\"El numero que debes encontrar es: {objetivo}\")\n",
        "        for i in range(len(nums)):\n",
        "                if i in adivinados:\n",
        "                    print(f\"{i}.- {nums[i]}\")\n",
        "                else:\n",
        "                    print(f\"{i}.- ???\")\n",
        "        try:\n",
        "            respuesta = int(input(\"\\nEn que indice este el numero a buscar: \"))\n",
        "            if respuesta in adivinados:\n",
        "                raise Exception\n",
        "        except:\n",
        "            clear()\n",
        "            print(\"Tienes que ingresar una opcion valida\")\n",
        "            continue\n",
        "        else:\n",
        "            adivinados.append(respuesta)\n",
        "            if respuesta == objetivo_idx:\n",
        "                clear()\n",
        "                print(f\"Ganaste el numero {objetivo} estaba en el indice {nums.index(objetivo)}!\")\n",
        "                intentos = 0\n",
        "            else:\n",
        "                clear()\n",
        "                intentos -= 1\n",
        "                if intentos == 0:\n",
        "                    print(\"Perdiste, suerte a la proxima!\")\n",
        "                    print(f\"El {objetivo} que buscabas estaba en el indice {nums.index(objetivo)}\")\n",
        "\n",
        "    for i in range(len(nums)):\n",
        "        if i in adivinados:\n",
        "            print(f\"{i}.- {nums[i]}\")\n",
        "        else:\n",
        "            print(f\"{i}.- ???\")\n",
        "    os.system(\"pause\")"
      ],
      "metadata": {
        "id": "jA_1pqQ9UC9z"
      },
      "execution_count": 6,
      "outputs": []
    },
    {
      "cell_type": "code",
      "source": [
        "def gen_10nums_lista():\n",
        "    lista_nums = []\n",
        "    i = 0\n",
        "    while i < 10:\n",
        "        num = random.randint(1, 10)\n",
        "        if num not in lista_nums:\n",
        "            lista_nums.append(num)\n",
        "            i += 1\n",
        "\n",
        "    return lista_nums"
      ],
      "metadata": {
        "id": "ieVVEuy9UWXD"
      },
      "execution_count": 7,
      "outputs": []
    },
    {
      "cell_type": "code",
      "source": [
        "def gen_10nums_rand1():\n",
        "    lista = list(range(1, 11))\n",
        "    lista_nums = random.sample(lista, 10)\n",
        "\n",
        "    return lista_nums\n",
        "\n",
        "menu()"
      ],
      "metadata": {
        "colab": {
          "base_uri": "https://localhost:8080/"
        },
        "id": "1UPwXCAKUcVB",
        "outputId": "bae3c2d9-4631-4686-99d1-b074a967fa62"
      },
      "execution_count": 8,
      "outputs": [
        {
          "name": "stdout",
          "output_type": "stream",
          "text": [
            "Menu de la actividad 8\n",
            "1.- Adivina el número\n",
            "2.- Busca el número\n",
            "0.- Cerrar\n",
            "Ingrese una opcion: 1\n",
            "Bienvenido al juego de adivinar números\n",
            "Estoy pensando en un número entre 1 y 10\n",
            "Intente adivinar: 5\n",
            "Muy alto\n",
            "Intenta otra vez\n",
            "Te quedan 2 para adivinar\n",
            "Intente adivinar: 3\n",
            "Adivinaste! El numero era 3\n",
            "Menu de la actividad 8\n",
            "1.- Adivina el número\n",
            "2.- Busca el número\n",
            "0.- Cerrar\n",
            "Ingrese una opcion: 2\n",
            "El numero que debes encontrar es: 6\n",
            "0.- ???\n",
            "1.- ???\n",
            "2.- ???\n",
            "3.- ???\n",
            "4.- ???\n",
            "5.- ???\n",
            "6.- ???\n",
            "7.- ???\n",
            "8.- ???\n",
            "9.- ???\n",
            "\n",
            "En que indice este el numero a buscar: 7\n",
            "Te quedan 2 intentos\n",
            "El numero que debes encontrar es: 6\n",
            "0.- ???\n",
            "1.- ???\n",
            "2.- ???\n",
            "3.- ???\n",
            "4.- ???\n",
            "5.- ???\n",
            "6.- ???\n",
            "7.- 9\n",
            "8.- ???\n",
            "9.- ???\n",
            "\n",
            "En que indice este el numero a buscar: 4\n",
            "Te quedan 1 intentos\n",
            "El numero que debes encontrar es: 6\n",
            "0.- ???\n",
            "1.- ???\n",
            "2.- ???\n",
            "3.- ???\n",
            "4.- 7\n",
            "5.- ???\n",
            "6.- ???\n",
            "7.- 9\n",
            "8.- ???\n",
            "9.- ???\n",
            "\n",
            "En que indice este el numero a buscar: 1\n",
            "Perdiste, suerte a la proxima!\n",
            "El 6 que buscabas estaba en el indice 5\n",
            "0.- ???\n",
            "1.- 3\n",
            "2.- ???\n",
            "3.- ???\n",
            "4.- 7\n",
            "5.- ???\n",
            "6.- ???\n",
            "7.- 9\n",
            "8.- ???\n",
            "9.- ???\n",
            "Menu de la actividad 8\n",
            "1.- Adivina el número\n",
            "2.- Busca el número\n",
            "0.- Cerrar\n",
            "Ingrese una opcion: 0\n"
          ]
        }
      ]
    }
  ]
}