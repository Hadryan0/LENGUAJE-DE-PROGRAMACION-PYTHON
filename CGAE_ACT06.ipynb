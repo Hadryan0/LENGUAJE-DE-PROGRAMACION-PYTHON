{
  "nbformat": 4,
  "nbformat_minor": 0,
  "metadata": {
    "colab": {
      "provenance": [],
      "authorship_tag": "ABX9TyPx1P70o92jtBOfyZFPUajZ",
      "include_colab_link": true
    },
    "kernelspec": {
      "name": "python3",
      "display_name": "Python 3"
    },
    "language_info": {
      "name": "python"
    }
  },
  "cells": [
    {
      "cell_type": "markdown",
      "metadata": {
        "id": "view-in-github",
        "colab_type": "text"
      },
      "source": [
        "<a href=\"https://colab.research.google.com/github/Hadryan0/LENGUAJE-DE-PROGRAMACION-PYTHON/blob/main/CGAE_ACT06.ipynb\" target=\"_parent\"><img src=\"https://colab.research.google.com/assets/colab-badge.svg\" alt=\"Open In Colab\"/></a>"
      ]
    },
    {
      "cell_type": "markdown",
      "source": [
        "# **Actividad 6**\n",
        "Adrian Eduardo Cebreros Garambullo"
      ],
      "metadata": {
        "id": "O7vFq7c-3K0y"
      }
    },
    {
      "cell_type": "code",
      "source": [
        "import os\n",
        "from random import randint"
      ],
      "metadata": {
        "id": "6VTBhH-R3tTk"
      },
      "execution_count": 1,
      "outputs": []
    },
    {
      "cell_type": "code",
      "source": [
        "def clear():\n",
        "    os.system('cls')"
      ],
      "metadata": {
        "id": "dzZj1Ouj4ClS"
      },
      "execution_count": 2,
      "outputs": []
    },
    {
      "cell_type": "markdown",
      "source": [
        "MENU"
      ],
      "metadata": {
        "id": "nJbV68mR6Ns9"
      }
    },
    {
      "cell_type": "code",
      "source": [
        "def menu():\n",
        "    on = True\n",
        "    while(on):\n",
        "        print(\"Menu de la actividad\")\n",
        "        print(\"1.- N numeros\")\n",
        "        print(\"2.- 15 Numeros\")\n",
        "        print(\"3.- Validar numero\")\n",
        "        print(\"4.- Area triangulo\")\n",
        "        print(\"5.- Promedio semestral\")\n",
        "        print(\"0.- Cerrar\")\n",
        "        try:\n",
        "            opc = int(input(\"Ingrese una opcion: \"))\n",
        "        except:\n",
        "            clear()\n",
        "            print(\"Tienes que ingresar una opcion valida\")\n",
        "        else:\n",
        "            match opc:\n",
        "                case 1:\n",
        "                    clear()\n",
        "                    enteros()\n",
        "                    clear()\n",
        "                case 2:\n",
        "                    clear()\n",
        "                    num_pares_impares()\n",
        "                    clear()\n",
        "                case 3:\n",
        "                    clear()\n",
        "                    vali_nums()\n",
        "                    clear()\n",
        "                case 4:\n",
        "                    clear()\n",
        "                    area = area_triangulo(10, 5)\n",
        "                    print(f\"El area del triangulo es: {area}\")\n",
        "                    os.system(\"pause\")\n",
        "                    clear()\n",
        "                case 5:\n",
        "                    clear()\n",
        "                    prom()\n",
        "                    clear()\n",
        "\n",
        "                case 0:\n",
        "                    on = False\n",
        "                case _:\n",
        "                    clear()\n",
        "                    print(\"Opcion invalida\")"
      ],
      "metadata": {
        "id": "QXNNslPJ3_Wv"
      },
      "execution_count": 3,
      "outputs": []
    },
    {
      "cell_type": "markdown",
      "source": [
        "1.- FUNCIÓN QUE LEA n CANTIDAD DE NÚMEROS HASTA QUE EL USUARIO LO DESEE, DESPLEGAR LA SUMA DE LOS NÚMEROS, MEDIA Y VALOR DE LOS NÚMEROS MAYORES Y MENORES."
      ],
      "metadata": {
        "id": "imx90ytX3OHd"
      }
    },
    {
      "cell_type": "code",
      "execution_count": 4,
      "metadata": {
        "id": "kSUoGrFt3EEV"
      },
      "outputs": [],
      "source": [
        "def enteros():\n",
        "    i = 0\n",
        "    suma = 0\n",
        "    mayor = 0\n",
        "    menor = 0\n",
        "    band = True\n",
        "    print(\"Si ingresa 0 el programa se detendra\")\n",
        "    while True:\n",
        "        try:\n",
        "            num = int(input(\"Ingrese un numero mayor a 0: \"))\n",
        "            if num < 0:\n",
        "                raise Exception\n",
        "            elif num == 0:\n",
        "                break\n",
        "        except:\n",
        "            print(\"Debes ingresar un numero entero que sea mayor a 0\")\n",
        "            continue\n",
        "        else:\n",
        "            if band:\n",
        "                menor = num\n",
        "                band = False\n",
        "            if num > mayor:\n",
        "                mayor = num\n",
        "            if num < menor:\n",
        "                menor = num\n",
        "            suma += num\n",
        "            i += 1\n",
        "\n",
        "\n",
        "    if i > 1:\n",
        "        media = suma/i\n",
        "    else:\n",
        "        media = 0\n",
        "    print(f\"Usted ingreso {i} numeros\")\n",
        "    print(f\"La suma de todos los numeros es: {suma}\")\n",
        "    print(f\"La media de los numeros ingresados es: {media}\")\n",
        "    print(f\"El numero mayor ingresado es: {mayor}\")\n",
        "    print(f\"El numero menor ingresado es: {menor}\")\n",
        "\n",
        "    os.system(\"pause\")\n"
      ]
    },
    {
      "cell_type": "markdown",
      "source": [
        "2.- FUNCIÓN QUE GENERE 15 NÚMEROS IMPARES ENTRE 10 Y 60 o MÁXIMO DE 25 NÚMEROS. DESPLEGAR LA MEDIA DE LOS PARES Y MEDIA DE IMPARES."
      ],
      "metadata": {
        "id": "SRFUYv_I4vxv"
      }
    },
    {
      "cell_type": "code",
      "source": [
        "def num_pares_impares():\n",
        "    j = 0\n",
        "    k = 0\n",
        "    par = 0\n",
        "    impar = 0\n",
        "    for i in range(25):\n",
        "        num = randint(10, 60)\n",
        "        if num % 2 == 0:\n",
        "            par += num\n",
        "            j += 1\n",
        "        else:\n",
        "            impar += num\n",
        "            k += 1\n",
        "            if k == 15:\n",
        "                break\n",
        "    if j > 1:\n",
        "        media_par = par/j\n",
        "    else:\n",
        "        media_par = par\n",
        "\n",
        "    if k > 1:\n",
        "        media_impar = impar/k\n",
        "    else:\n",
        "        media_impar = impar\n",
        "\n",
        "    print(f\"Se generaron {j} numeros pares\")\n",
        "    print(f\"La media de los pares es: {media_par}\")\n",
        "    print(f\"Se generaron {k} numeros impares\")\n",
        "    print(f\"La media de los impares es: {media_impar}\")\n",
        "\n",
        "    os.system(\"pause\")"
      ],
      "metadata": {
        "id": "TMa3ARFl43cG"
      },
      "execution_count": 5,
      "outputs": []
    },
    {
      "cell_type": "markdown",
      "source": [
        "3.- FUNCIÓN QUE SIRVA PARA LEER UN RANGO DADO POR EL USUARIO. REPETIR ESTA ACCIÓN HASTA QUE EL USUARIO LO DESEE, DESPLEGAR CANTIDAD DE NUMEROS Y PROMEDIO DE LOS NUMEROS.."
      ],
      "metadata": {
        "id": "MDVi30RZ42su"
      }
    },
    {
      "cell_type": "code",
      "source": [
        "def vali_num(rang_inf, rang_sup):\n",
        "    while True:\n",
        "        try:\n",
        "            num = int(input(f\"Ingresa una numero entre {rang_inf} y {rang_sup}: \"))\n",
        "            if num < rang_inf or num > rang_sup:\n",
        "                raise Exception\n",
        "        except:\n",
        "            print(f\"Debe ingresar un valor numerico entre {rang_inf} y {rang_sup}\")\n",
        "        else:\n",
        "            if type(num) == int:\n",
        "                break\n",
        "\n",
        "    return num"
      ],
      "metadata": {
        "id": "Kyu2q2uh5M7X"
      },
      "execution_count": 6,
      "outputs": []
    },
    {
      "cell_type": "code",
      "source": [
        "def vali_nums():\n",
        "    try:\n",
        "        r_inf = int(input(\"Ingrese el rango inferior: \"))\n",
        "        r_sup = int(input(\"Ingrese el rango superior: \"))\n",
        "        clear()\n",
        "    except:\n",
        "        print(\"El dato ingresado debe ser un numero!\")\n",
        "    else:\n",
        "        nums = 0\n",
        "        i = 0\n",
        "        si = False\n",
        "        while True:\n",
        "            nums += vali_num(r_inf, r_sup)\n",
        "            i += 1\n",
        "            while True:\n",
        "                try:\n",
        "                    seguir = int(input(\"Ingrese 0 si quiere parar de validar numeros o cualquier otro numero para seguir: \"))\n",
        "                    clear()\n",
        "                except:\n",
        "                    print(\"El dato ingresado debe ser un numero!\")\n",
        "                    continue\n",
        "                else:\n",
        "                    if seguir == 0:\n",
        "                        si = True\n",
        "                    break\n",
        "            if si:\n",
        "                break\n",
        "\n",
        "    if i > 1:\n",
        "        media = nums/i\n",
        "    else:\n",
        "        media = nums\n",
        "    print(f\"Usted ingreso {i} numeros\")\n",
        "    print(f\"El promedio de los numeros ingresados es: {media}\")\n",
        "    os.system(\"pause\")"
      ],
      "metadata": {
        "id": "63im6kyF5RrB"
      },
      "execution_count": 7,
      "outputs": []
    },
    {
      "cell_type": "markdown",
      "source": [
        "4.- FUNCIÓN QUE RECIBA COMO PARÁMETRO LOS VALORES PARA EL ÁREA DE UN TRIANGULO Y RETORNE SU RESULTADO\n",
        "\n"
      ],
      "metadata": {
        "id": "yFPFDhkB5kVz"
      }
    },
    {
      "cell_type": "code",
      "source": [
        "def area_triangulo(base, altura):\n",
        "    area = (base * altura)/2\n",
        "    return area"
      ],
      "metadata": {
        "id": "cBuzarHO5qfD"
      },
      "execution_count": 8,
      "outputs": []
    },
    {
      "cell_type": "markdown",
      "source": [
        "5.- FUNCION QUE SIRVA QUE SIRVA PARA EVALUAR EL PROMEDIO DE 3 CALIFICACIONES DADAS, SI EL USUARIO SU CALIFICACION ES APROBADA MANDAR MSGE QUE DIGA \"felicidades avanzas al siguiente semestre\", SI LA CALIFICACIONE ESTA REPROBADA EL MENSAGE \"repetir materia \" EL ALUMNO TENDRA UN MAXIMO DE CURSAR 3 VESES LA MATERIA, SI LA REPRUEBA 3 VESES MANDAR MSGE \" lastima estas fuera de la UABC\"\n",
        "\n"
      ],
      "metadata": {
        "id": "pZaBXoMi5rs7"
      }
    },
    {
      "cell_type": "code",
      "source": [
        "def prom():\n",
        "    i = 0\n",
        "    while i < 3:\n",
        "        try:\n",
        "            calif = int(input(\"Ingresa una calificacion entre 0 y 100: \"))\n",
        "            if calif < 0 or calif > 100:\n",
        "                raise Exception\n",
        "        except:\n",
        "            print(\"Debe ingresar un valor numerico entre 0 y 100\")\n",
        "        else:\n",
        "            if calif >= 60:\n",
        "                print(f\"Felicidades! \\nAprobaste con un promedio de {calif} \\nPasas al siguiente semestre!\")\n",
        "                break\n",
        "            else:\n",
        "                print(f\"Reprobaste con un promedio de {calif}\")\n",
        "                i += 1\n",
        "                if i < 3:\n",
        "                    print(\"Tendras que recursar la materia\")\n",
        "                else:\n",
        "                    print(\"Reprobaste 3 veces \\nLastima estas fuera de la UABC\")\n",
        "\n",
        "    os.system(\"pause\")\n",
        "\n",
        "if __name__ == \"__main__\":\n",
        "    menu()"
      ],
      "metadata": {
        "colab": {
          "base_uri": "https://localhost:8080/"
        },
        "id": "rwwc9FjT55qX",
        "outputId": "5380c01c-3cf9-4dca-9852-2032ebca8174"
      },
      "execution_count": 9,
      "outputs": [
        {
          "name": "stdout",
          "output_type": "stream",
          "text": [
            "Menu de la actividad\n",
            "1.- N numeros\n",
            "2.- 15 Numeros\n",
            "3.- Validar numero\n",
            "4.- Area triangulo\n",
            "5.- Promedio semestral\n",
            "0.- Cerrar\n",
            "Ingrese una opcion: 1\n",
            "Si ingresa 0 el programa se detendra\n",
            "Ingrese un numero mayor a 0: 100\n",
            "Ingrese un numero mayor a 0: 10\n",
            "Ingrese un numero mayor a 0: 50\n",
            "Ingrese un numero mayor a 0: 0\n",
            "Usted ingreso 3 numeros\n",
            "La suma de todos los numeros es: 160\n",
            "La media de los numeros ingresados es: 53.333333333333336\n",
            "El numero mayor ingresado es: 100\n",
            "El numero menor ingresado es: 10\n",
            "Menu de la actividad\n",
            "1.- N numeros\n",
            "2.- 15 Numeros\n",
            "3.- Validar numero\n",
            "4.- Area triangulo\n",
            "5.- Promedio semestral\n",
            "0.- Cerrar\n",
            "Ingrese una opcion: 2\n",
            "Se generaron 11 numeros pares\n",
            "La media de los pares es: 28.545454545454547\n",
            "Se generaron 14 numeros impares\n",
            "La media de los impares es: 31.285714285714285\n",
            "Menu de la actividad\n",
            "1.- N numeros\n",
            "2.- 15 Numeros\n",
            "3.- Validar numero\n",
            "4.- Area triangulo\n",
            "5.- Promedio semestral\n",
            "0.- Cerrar\n",
            "Ingrese una opcion: 3\n",
            "Ingrese el rango inferior: 1\n",
            "Ingrese el rango superior: 10\n",
            "Ingresa una numero entre 1 y 10: 9\n",
            "Ingrese 0 si quiere parar de validar numeros o cualquier otro numero para seguir: 8\n",
            "Ingresa una numero entre 1 y 10: 7\n",
            "Ingrese 0 si quiere parar de validar numeros o cualquier otro numero para seguir: 0\n",
            "Usted ingreso 2 numeros\n",
            "El promedio de los numeros ingresados es: 8.0\n",
            "Menu de la actividad\n",
            "1.- N numeros\n",
            "2.- 15 Numeros\n",
            "3.- Validar numero\n",
            "4.- Area triangulo\n",
            "5.- Promedio semestral\n",
            "0.- Cerrar\n",
            "Ingrese una opcion: 4\n",
            "El area del triangulo es: 25.0\n",
            "Menu de la actividad\n",
            "1.- N numeros\n",
            "2.- 15 Numeros\n",
            "3.- Validar numero\n",
            "4.- Area triangulo\n",
            "5.- Promedio semestral\n",
            "0.- Cerrar\n",
            "Ingrese una opcion: 5\n",
            "Ingresa una calificacion entre 0 y 100: 90\n",
            "Felicidades! \n",
            "Aprobaste con un promedio de 90 \n",
            "Pasas al siguiente semestre!\n",
            "Menu de la actividad\n",
            "1.- N numeros\n",
            "2.- 15 Numeros\n",
            "3.- Validar numero\n",
            "4.- Area triangulo\n",
            "5.- Promedio semestral\n",
            "0.- Cerrar\n",
            "Ingrese una opcion: 0\n"
          ]
        }
      ]
    }
  ]
}